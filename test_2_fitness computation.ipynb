{
 "cells": [
  {
   "cell_type": "code",
   "execution_count": 53,
   "metadata": {},
   "outputs": [],
   "source": [
    "import trusspy as tp\n",
    "import networkx as nx\n",
    "import itertools\n",
    "import math\n",
    "from numpy import random\n",
    "%matplotlib inline\n",
    "import matplotlib.pyplot as plt\n",
    "#matplotlib widget\n",
    "from mpl_toolkits.mplot3d import Axes3D"
   ]
  },
  {
   "cell_type": "code",
   "execution_count": 54,
   "metadata": {},
   "outputs": [],
   "source": [
    "MAX_LENGTH = 4\n",
    "SQUARE_SIZE=4\n",
    "LAYER_HEIGHT=5\n",
    "MUTATION_ADD=5\n",
    "\n",
    "def create_individual(nbr_layers, mu=6, sigma=0.7):\n",
    "    \"\"\"\n",
    "    Create an individual \n",
    "    An individual is a list of 4 layer, each layer is a list containing tuple for representing marhsmallow position\n",
    "    example : \n",
    "    one_individual = [ \n",
    "    [(1,1), (2,3), (5,6)], \n",
    "    [(1,1), (2,3), (5,6), (2,3), (5,6)], \n",
    "    [(1,1), (2,3), (5,6), (2,3), (5,6), (2,3), (5,6)], \n",
    "    [(1,1), (2,3)] \n",
    "    ]\n",
    "\n",
    "\n",
    "    \"\"\"\n",
    "    individual = [[ tuple((round(SQUARE_SIZE*random.normal(0.5,0.2)) , round(SQUARE_SIZE*random.normal(0.5,0.2)), layer*LAYER_HEIGHT)) for _ in range(round(random.normal(mu,sigma)))] for layer in range(nbr_layers)]\n",
    "    return individual\n",
    "\n",
    "\n",
    "def create_initial_population(nbr_ind, nbr_layers, mu=5, sigma=1):\n",
    "    \"\"\"\n",
    "    Generate an initial population of spaghetti marshmallow towers\n",
    "\n",
    "    Input : \n",
    "    nbr_ind : the number of towers (individuals) in this initial generation\n",
    "    nbr_layers : the number of layers in each tower\n",
    "    mu : Mean for gaussian distribution of number of marshmallow in each layer\n",
    "    sigma : Sigma for gaussian distribution of number of marshmallow in each layer\n",
    "    \n",
    "    Output:\n",
    "    A list of individual\n",
    "    An individual is a list of layers, each layer is a list containing tuple for representing marhsmallow position\n",
    "    \n",
    "    \n",
    "    \"\"\"\n",
    "    population = [  create_individual(nbr_layers, mu, sigma)   for _ in range(nbr_ind) ]\n",
    "    return population\n",
    "\n",
    "\n",
    "def generate_graph(individual):\n",
    "    \"\"\"\n",
    "    Generate a networkx graph from an individual\n",
    "\n",
    "    Input:\n",
    "    An individual\n",
    "\n",
    "    Output :\n",
    "    A networkx graph \n",
    "    \"\"\"\n",
    "    G = nx.Graph()\n",
    "    nbr_layers = len(individual)\n",
    "    for layer in range(nbr_layers):\n",
    "        G.add_nodes_from(individual[layer]) #we add this layer to the graph \n",
    "        potential_spaghetti = list(itertools.combinations(individual[layer],2))\n",
    "        if layer < nbr_layers - 1:\n",
    "            potential_spaghetti += list(itertools.product(individual[layer], individual[layer+1])) #we add spaghetti between levels\n",
    "\n",
    "\n",
    "        for potential_spaghetto in potential_spaghetti:\n",
    "            length = math.sqrt((potential_spaghetto[0][0] - potential_spaghetto[1][0])**2 + (potential_spaghetto[0][1] - potential_spaghetto[1][1])**2)\n",
    "            if length < MAX_LENGTH:\n",
    "                G.add_edge(potential_spaghetto[0], potential_spaghetto[1])\n",
    "\n",
    "    return G\n",
    "\n",
    "\n",
    "\n",
    "\n",
    "\n",
    "def check_connectivity(graph):\n",
    "    \"\"\"\n",
    "    Check if there is only one tower, i.e from any marshallow we can reach any other marshallow, i.e., the graph is connected. \n",
    "\n",
    "    Input:\n",
    "    a graph corresponding to an individual\n",
    "\n",
    "    Output:\n",
    "    The degree of connectivity, i.e. the smallest number of connection a marshmallow have\n",
    "    \"\"\"     \n",
    "\n",
    "    degree_sequence = (d for n, d in graph.degree())\n",
    "    return min(degree_sequence)\n",
    "\n",
    "\n",
    "def draw_tower(graph):\n",
    "    x, y, z = zip(*list(graph.nodes()))\n",
    "    fig = plt.figure()\n",
    "    ax = fig.add_subplot(111, projection=\"3d\")\n",
    "    ax.scatter(x, y, z, c=z, cmap='seismic', linewidths=10, alpha=1)\n",
    "    for edge in list(graph.edges()):\n",
    "        x_ed, y_ed, z_ed = zip(*list(edge))\n",
    "        ax.plot(x_ed,y_ed,z_ed, c=\"#FFBB00\")\n",
    "    plt.show()\n",
    "    fig.savefig(\"model_undeformed_inc0_3d.png\")\n"
   ]
  },
  {
   "cell_type": "code",
   "execution_count": 55,
   "metadata": {},
   "outputs": [],
   "source": [
    "def Compute_fitness_value(population,array_max_force):\n",
    "    \"\"\" \n",
    "    Gives the fitness value for each graph \n",
    "\n",
    "    input: list of connected graphs \n",
    "\n",
    "    output: list of fitness values associated to each graphs\n",
    "    \n",
    "    \"\"\"\n",
    "    fitness_value =[]\n",
    "    for i in range(len(population)) :\n",
    "        fitness_value[i] = array_max_force[i]*len(population[i])\n",
    "\n",
    "    return fitness_value\n"
   ]
  },
  {
   "cell_type": "code",
   "execution_count": 56,
   "metadata": {},
   "outputs": [],
   "source": [
    "population = create_initial_population(10,4)\n",
    "population\n",
    "G=generate_graph(population[1])"
   ]
  },
  {
   "cell_type": "code",
   "execution_count": 57,
   "metadata": {},
   "outputs": [],
   "source": [
    "population_list=population[1][0]+population[1][1]+population[1][2]+population[1][3]"
   ]
  },
  {
   "cell_type": "code",
   "execution_count": 58,
   "metadata": {},
   "outputs": [
    {
     "ename": "ValueError",
     "evalue": "cannot convert float NaN to integer",
     "output_type": "error",
     "traceback": [
      "\u001b[1;31m---------------------------------------------------------------------------\u001b[0m",
      "\u001b[1;31mValueError\u001b[0m                                Traceback (most recent call last)",
      "\u001b[1;32mc:\\Users\\antoi\\Documents\\MA_2\\data driven design\\spaghetteam\\test_2_fitness computation.ipynb Cell 6\u001b[0m in \u001b[0;36m4\n\u001b[0;32m     <a href='vscode-notebook-cell:/c%3A/Users/antoi/Documents/MA_2/data%20driven%20design/spaghetteam/test_2_fitness%20computation.ipynb#X54sZmlsZQ%3D%3D?line=43'>44</a>\u001b[0m M\u001b[39m.\u001b[39mSettings\u001b[39m.\u001b[39mdxtol \u001b[39m=\u001b[39m \u001b[39m1.25\u001b[39m\n\u001b[0;32m     <a href='vscode-notebook-cell:/c%3A/Users/antoi/Documents/MA_2/data%20driven%20design/spaghetteam/test_2_fitness%20computation.ipynb#X54sZmlsZQ%3D%3D?line=45'>46</a>\u001b[0m M\u001b[39m.\u001b[39mbuild()\n\u001b[1;32m---> <a href='vscode-notebook-cell:/c%3A/Users/antoi/Documents/MA_2/data%20driven%20design/spaghetteam/test_2_fitness%20computation.ipynb#X54sZmlsZQ%3D%3D?line=46'>47</a>\u001b[0m M\u001b[39m.\u001b[39;49mrun()\n",
      "File \u001b[1;32mc:\\Users\\antoi\\AppData\\Local\\Programs\\Python\\Python310\\lib\\site-packages\\trusspy\\model.py:419\u001b[0m, in \u001b[0;36mModel.run\u001b[1;34m(self)\u001b[0m\n\u001b[0;32m    415\u001b[0m \u001b[39mself\u001b[39m\u001b[39m.\u001b[39mAnalysis\u001b[39m.\u001b[39mf0red \u001b[39m=\u001b[39m f0red\u001b[39m.\u001b[39mreshape(\u001b[39mlen\u001b[39m(f0red), \u001b[39m1\u001b[39m)\n\u001b[0;32m    417\u001b[0m \u001b[39mself\u001b[39m\u001b[39m.\u001b[39mAnalysis\u001b[39m.\u001b[39mstep \u001b[39m=\u001b[39m \u001b[39m1\u001b[39m \u001b[39m+\u001b[39m step\n\u001b[1;32m--> 419\u001b[0m res_V, res_a \u001b[39m=\u001b[39m pathfollow(\n\u001b[0;32m    420\u001b[0m     \u001b[39mself\u001b[39;49m\u001b[39m.\u001b[39;49mequilibrium,\n\u001b[0;32m    421\u001b[0m     \u001b[39mself\u001b[39;49m\u001b[39m.\u001b[39;49mstiffness,\n\u001b[0;32m    422\u001b[0m     \u001b[39mself\u001b[39;49m\u001b[39m.\u001b[39;49mAnalysis\u001b[39m.\u001b[39;49mUred,\n\u001b[0;32m    423\u001b[0m     \u001b[39mself\u001b[39;49m\u001b[39m.\u001b[39;49mAnalysis,\n\u001b[0;32m    424\u001b[0m     dxmax\u001b[39m=\u001b[39;49m[\u001b[39mself\u001b[39;49m\u001b[39m.\u001b[39;49mSettings\u001b[39m.\u001b[39;49mdu, \u001b[39mself\u001b[39;49m\u001b[39m.\u001b[39;49mSettings\u001b[39m.\u001b[39;49mdlpf],\n\u001b[0;32m    425\u001b[0m     j\u001b[39m=\u001b[39;49m\u001b[39mself\u001b[39;49m\u001b[39m.\u001b[39;49mSettings\u001b[39m.\u001b[39;49mj0,\n\u001b[0;32m    426\u001b[0m     j_fixed\u001b[39m=\u001b[39;49m\u001b[39mself\u001b[39;49m\u001b[39m.\u001b[39;49mSettings\u001b[39m.\u001b[39;49mj_fixed,\n\u001b[0;32m    427\u001b[0m     j_pre\u001b[39m=\u001b[39;49m\u001b[39mself\u001b[39;49m\u001b[39m.\u001b[39;49mSettings\u001b[39m.\u001b[39;49mj_pre,\n\u001b[0;32m    428\u001b[0m     xlimit\u001b[39m=\u001b[39;49mxlimit,\n\u001b[0;32m    429\u001b[0m     incs\u001b[39m=\u001b[39;49mincs,\n\u001b[0;32m    430\u001b[0m     nfev\u001b[39m=\u001b[39;49m\u001b[39mself\u001b[39;49m\u001b[39m.\u001b[39;49mSettings\u001b[39m.\u001b[39;49mnfev,\n\u001b[0;32m    431\u001b[0m     cycl\u001b[39m=\u001b[39;49m\u001b[39mself\u001b[39;49m\u001b[39m.\u001b[39;49mSettings\u001b[39m.\u001b[39;49mcycl,\n\u001b[0;32m    432\u001b[0m     ftol\u001b[39m=\u001b[39;49m\u001b[39m10\u001b[39;49m\u001b[39m*\u001b[39;49m\u001b[39m*\u001b[39;49m\u001b[39m-\u001b[39;49m\u001b[39mself\u001b[39;49m\u001b[39m.\u001b[39;49mSettings\u001b[39m.\u001b[39;49mftol,\n\u001b[0;32m    433\u001b[0m     xtol\u001b[39m=\u001b[39;49m\u001b[39m10\u001b[39;49m\u001b[39m*\u001b[39;49m\u001b[39m*\u001b[39;49m\u001b[39m-\u001b[39;49m\u001b[39mself\u001b[39;49m\u001b[39m.\u001b[39;49mSettings\u001b[39m.\u001b[39;49mxtol,\n\u001b[0;32m    434\u001b[0m     stepcontrol\u001b[39m=\u001b[39;49m\u001b[39mself\u001b[39;49m\u001b[39m.\u001b[39;49mSettings\u001b[39m.\u001b[39;49mstepcontrol,\n\u001b[0;32m    435\u001b[0m     maxfac\u001b[39m=\u001b[39;49m\u001b[39mself\u001b[39;49m\u001b[39m.\u001b[39;49mSettings\u001b[39m.\u001b[39;49mmaxfac,\n\u001b[0;32m    436\u001b[0m     minfac\u001b[39m=\u001b[39;49m\u001b[39mself\u001b[39;49m\u001b[39m.\u001b[39;49mSettings\u001b[39m.\u001b[39;49mminfac,\n\u001b[0;32m    437\u001b[0m     reduce\u001b[39m=\u001b[39;49m\u001b[39mself\u001b[39;49m\u001b[39m.\u001b[39;49mSettings\u001b[39m.\u001b[39;49mreduce,\n\u001b[0;32m    438\u001b[0m     increase\u001b[39m=\u001b[39;49m\u001b[39mself\u001b[39;49m\u001b[39m.\u001b[39;49mSettings\u001b[39m.\u001b[39;49mincrease,\n\u001b[0;32m    439\u001b[0m     dxtol\u001b[39m=\u001b[39;49m\u001b[39mself\u001b[39;49m\u001b[39m.\u001b[39;49mSettings\u001b[39m.\u001b[39;49mdxtol,\n\u001b[0;32m    440\u001b[0m     verbose\u001b[39m=\u001b[39;49m\u001b[39mself\u001b[39;49m\u001b[39m.\u001b[39;49mSettings\u001b[39m.\u001b[39;49mlog,\n\u001b[0;32m    441\u001b[0m )\n\u001b[0;32m    443\u001b[0m \u001b[39mif\u001b[39;00m \u001b[39mself\u001b[39m\u001b[39m.\u001b[39mSettings\u001b[39m.\u001b[39mlog \u001b[39m>\u001b[39m \u001b[39m1\u001b[39m:\n\u001b[0;32m    444\u001b[0m     \u001b[39mprint\u001b[39m(\u001b[39mr\u001b[39m\u001b[39m\"\u001b[39m\u001b[39m\\\u001b[39m\u001b[39mpagebreak\u001b[39m\u001b[39m\"\u001b[39m)\n",
      "File \u001b[1;32mc:\\Users\\antoi\\AppData\\Local\\Programs\\Python\\Python310\\lib\\site-packages\\trusspy\\solvers\\tpsolver.py:394\u001b[0m, in \u001b[0;36mpathfollow\u001b[1;34m(g, dgdx, x, analysis, dxmax, j, j_fixed, j_pre, xlimit, incs, nfev, cycl, ftol, xtol, stepcontrol, maxfac, minfac, reduce, increase, dxtol, verbose)\u001b[0m\n\u001b[0;32m    390\u001b[0m Dxs_pre \u001b[39m=\u001b[39m np\u001b[39m.\u001b[39msort(\u001b[39mabs\u001b[39m(Dx_pre \u001b[39m/\u001b[39m dxmax)) \u001b[39m*\u001b[39m np\u001b[39m.\u001b[39msign(\n\u001b[0;32m    391\u001b[0m     (Dx_pre \u001b[39m/\u001b[39m dxmax)\u001b[39m.\u001b[39mT[Dxi_pre \u001b[39m-\u001b[39m \u001b[39m1\u001b[39m]\n\u001b[0;32m    392\u001b[0m )\n\u001b[0;32m    393\u001b[0m i1, v1 \u001b[39m=\u001b[39m Dxi_pre[\u001b[39m-\u001b[39m\u001b[39m1\u001b[39m], Dxs_pre[\u001b[39m-\u001b[39m\u001b[39m1\u001b[39m]\n\u001b[1;32m--> 394\u001b[0m j_pre \u001b[39m=\u001b[39m \u001b[39mint\u001b[39;49m(i1 \u001b[39m*\u001b[39;49m np\u001b[39m.\u001b[39;49msign(v1))\n\u001b[0;32m    395\u001b[0m \u001b[39mif\u001b[39;00m verbose \u001b[39m>\u001b[39m \u001b[39m1\u001b[39m:\n\u001b[0;32m    396\u001b[0m     \u001b[39mprint\u001b[39m(\n\u001b[0;32m    397\u001b[0m         \u001b[39m\"\u001b[39m\u001b[39m| \u001b[39m\u001b[39m{0:2d}\u001b[39;00m\u001b[39m  |  \u001b[39m\u001b[39m{1:2d}\u001b[39;00m\u001b[39m  |  \u001b[39m\u001b[39m{2:2d}\u001b[39;00m\u001b[39m   |\u001b[39m\u001b[39m{3:1.3e}\u001b[39;00m\u001b[39m|\u001b[39m\u001b[39m{4:4d}\u001b[39;00m\u001b[39m|\u001b[39m\u001b[39m{5:8.1g}\u001b[39;00m\u001b[39m|    |        |    |        |\u001b[39m\u001b[39m\"\u001b[39m\u001b[39m.\u001b[39mformat(\n\u001b[0;32m    398\u001b[0m             z \u001b[39m+\u001b[39m \u001b[39m1\u001b[39m, n_pre \u001b[39m-\u001b[39m \u001b[39m1\u001b[39m, j, f_norm_pre, i1, v1\n\u001b[0;32m    399\u001b[0m         )\n\u001b[0;32m    400\u001b[0m     )\n",
      "\u001b[1;31mValueError\u001b[0m: cannot convert float NaN to integer"
     ]
    }
   ],
   "source": [
    "# init model\n",
    "M = tp.Model(logfile=True)\n",
    "\n",
    "with M.Nodes as MN:\n",
    "    for i in range(len(population_list)):\n",
    "            MN.add_node(i+1, coord=population_list[i])\n",
    "\n",
    "element_type   = 1    # truss\n",
    "material_type  = 1    # linear-elastic\n",
    "\n",
    "youngs_modulus = 4*10**9\n",
    "cross_section_area = math.pi*(1.25*10**(-3))**2\n",
    "\n",
    "with M.Elements as ME:\n",
    "    for i in range(len(list(G.edges()))):\n",
    "        ME.add_element( i+1, conn=(population_list.index(list(G.edges())[i][0])+1,population_list.index(list(G.edges())[i][1])+1) )\n",
    "    ME.assign_etype(\"all\", element_type)\n",
    "    ME.assign_mtype(\"all\", material_type)\n",
    "    ME.assign_material(\"all\", [youngs_modulus])\n",
    "    ME.assign_geometry(\"all\", [cross_section_area])\n",
    "\n",
    "with M.Boundaries as MB:\n",
    "    for i in range(len(population_list)):\n",
    "        if population_list[i][2]==0:\n",
    "            MB.add_bound_U( i+1, (0,0,0) )\n",
    "    else: MB.add_bound_U( i+1, (1,1,1) )\n",
    "    \n",
    "with M.ExtForces as MF:\n",
    "    for i in range(len(population_list)):\n",
    "        if population_list[i][2]==10:\n",
    "            MF.add_force( i+1, ( 0, 0,-1) )\n",
    "        else:MF.add_force( i+1, ( 0, 0,0) )\n",
    "\n",
    "M.Settings.dlpf = 0.005\n",
    "M.Settings.du = 0.05\n",
    "M.Settings.incs = 163\n",
    "M.Settings.stepcontrol = True\n",
    "M.Settings.maxfac = 4\n",
    "\n",
    "M.Settings.ftol = 8\n",
    "M.Settings.xtol = 8\n",
    "M.Settings.nfev = 8\n",
    "\n",
    "M.Settings.dxtol = 1.25\n",
    "\n",
    "M.build()\n",
    "M.run()"
   ]
  },
  {
   "cell_type": "code",
   "execution_count": null,
   "metadata": {},
   "outputs": [],
   "source": [
    "# undeformed views\n",
    "fig, ax = M.plot_model(\n",
    "    view=\"3d\",  # 'xy', 'yz', 'xz'\n",
    "    contour=\"force\",\n",
    "    lim_scale=(0, 10, 0, 10, 0, 10),  # 3d\n",
    "    # lim_scale=1.4, # plane-view\n",
    "    force_scale=5.0,  # 2\n",
    "    inc=0,\n",
    ")\n",
    "plt.show()"
   ]
  },
  {
   "cell_type": "code",
   "execution_count": null,
   "metadata": {},
   "outputs": [],
   "source": [
    "population_list\n"
   ]
  },
  {
   "cell_type": "code",
   "execution_count": null,
   "metadata": {},
   "outputs": [],
   "source": [
    "list(G.edges())[1][0]"
   ]
  },
  {
   "cell_type": "code",
   "execution_count": null,
   "metadata": {},
   "outputs": [],
   "source": [
    "population_list.index(list(G.edges())[1][0])+1"
   ]
  },
  {
   "cell_type": "code",
   "execution_count": null,
   "metadata": {},
   "outputs": [],
   "source": [
    "population_list=population[1][0]+population[1][1]+population[1][2]+population[1][3]\n",
    "\n"
   ]
  },
  {
   "cell_type": "code",
   "execution_count": null,
   "metadata": {},
   "outputs": [],
   "source": [
    "population_array"
   ]
  },
  {
   "cell_type": "code",
   "execution_count": null,
   "metadata": {},
   "outputs": [],
   "source": [
    "pop_list"
   ]
  },
  {
   "cell_type": "code",
   "execution_count": null,
   "metadata": {},
   "outputs": [],
   "source": [
    "tuple(G.edges)"
   ]
  },
  {
   "cell_type": "code",
   "execution_count": null,
   "metadata": {},
   "outputs": [],
   "source": [
    "tuple(G.nodes)[0]"
   ]
  },
  {
   "cell_type": "code",
   "execution_count": null,
   "metadata": {},
   "outputs": [],
   "source": [
    "tuple(population_list).index(list(G.edges())[1][0])"
   ]
  },
  {
   "cell_type": "code",
   "execution_count": null,
   "metadata": {},
   "outputs": [],
   "source": [
    "list(population_list[1]).index(2)"
   ]
  },
  {
   "cell_type": "code",
   "execution_count": null,
   "metadata": {},
   "outputs": [],
   "source": [
    "population"
   ]
  },
  {
   "cell_type": "code",
   "execution_count": null,
   "metadata": {},
   "outputs": [],
   "source": [
    "population_array.tolist()"
   ]
  },
  {
   "cell_type": "code",
   "execution_count": null,
   "metadata": {},
   "outputs": [],
   "source": []
  }
 ],
 "metadata": {
  "kernelspec": {
   "display_name": "Python 3 (ipykernel)",
   "language": "python",
   "name": "python3"
  },
  "language_info": {
   "codemirror_mode": {
    "name": "ipython",
    "version": 3
   },
   "file_extension": ".py",
   "mimetype": "text/x-python",
   "name": "python",
   "nbconvert_exporter": "python",
   "pygments_lexer": "ipython3",
   "version": "3.10.7"
  }
 },
 "nbformat": 4,
 "nbformat_minor": 2
}
